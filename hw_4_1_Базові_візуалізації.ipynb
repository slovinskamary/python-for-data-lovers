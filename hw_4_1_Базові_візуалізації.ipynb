{
 "cells": [
  {
   "cell_type": "markdown",
   "metadata": {
    "id": "4-pms5pP-SQy"
   },
   "source": [
    "# Домашнє завдання №1 до модуля 4: Базові візуалізації даних."
   ]
  },
  {
   "cell_type": "markdown",
   "metadata": {
    "id": "vWhUPwaI4HY_"
   },
   "source": [
    "В цьому ДЗ ми потренуємось будувати базові візуалізації з бібліотекою matplotlib."
   ]
  },
  {
   "cell_type": "markdown",
   "metadata": {
    "id": "xqGtdryhytkx"
   },
   "source": [
    "0. Імпортуйте модуль matplotlib.pyplot для роботи як це показано у лекції. Імпортуйте також numpy, він нам знадобиться."
   ]
  },
  {
   "cell_type": "code",
   "execution_count": 1,
   "metadata": {
    "id": "qSr6HS5qx7jA"
   },
   "outputs": [
    {
     "name": "stdout",
     "output_type": "stream",
     "text": [
      "Package                           Version\n",
      "--------------------------------- ------------------\n",
      "aext-assistant                    4.0.15\n",
      "aext-assistant-server             4.0.15\n",
      "aext-core                         4.0.15\n",
      "aext-core-server                  4.0.15\n",
      "aext-panels                       4.0.15\n",
      "aext-panels-server                4.0.15\n",
      "aext-share-notebook               4.0.15\n",
      "aext-share-notebook-server        4.0.15\n",
      "aext-shared                       4.0.15\n",
      "aiobotocore                       2.12.3\n",
      "aiohttp                           3.9.5\n",
      "aioitertools                      0.7.1\n",
      "aiosignal                         1.2.0\n",
      "alabaster                         0.7.16\n",
      "altair                            5.0.1\n",
      "anaconda-anon-usage               0.4.4\n",
      "anaconda-catalogs                 0.2.0\n",
      "anaconda-client                   1.12.3\n",
      "anaconda-cloud-auth               0.5.1\n",
      "anaconda-navigator                2.6.2\n",
      "anaconda-project                  0.11.1\n",
      "annotated-types                   0.6.0\n",
      "anyio                             4.2.0\n",
      "appdirs                           1.4.4\n",
      "applaunchservices                 0.3.0\n",
      "appnope                           0.1.3\n",
      "appscript                         1.1.2\n",
      "archspec                          0.2.3\n",
      "argon2-cffi                       21.3.0\n",
      "argon2-cffi-bindings              21.2.0\n",
      "arrow                             1.2.3\n",
      "astroid                           2.14.2\n",
      "astropy                           6.1.0\n",
      "astropy-iers-data                 0.2024.6.3.0.31.14\n",
      "asttokens                         2.0.5\n",
      "async-lru                         2.0.4\n",
      "atomicwrites                      1.4.0\n",
      "attrs                             23.1.0\n",
      "Automat                           20.2.0\n",
      "autopep8                          2.0.4\n",
      "Babel                             2.11.0\n",
      "bcrypt                            3.2.0\n",
      "beautifulsoup4                    4.12.3\n",
      "binaryornot                       0.4.4\n",
      "black                             24.4.2\n",
      "bleach                            4.1.0\n",
      "blinker                           1.6.2\n",
      "bokeh                             3.4.1\n",
      "boltons                           23.0.0\n",
      "botocore                          1.34.69\n",
      "Bottleneck                        1.3.7\n",
      "Brotli                            1.0.9\n",
      "cachetools                        5.3.3\n",
      "certifi                           2024.7.4\n",
      "cffi                              1.16.0\n",
      "chardet                           4.0.0\n",
      "charset-normalizer                2.0.4\n",
      "click                             8.1.7\n",
      "cloudpickle                       2.2.1\n",
      "colorama                          0.4.6\n",
      "colorcet                          3.1.0\n",
      "comm                              0.2.1\n",
      "conda                             24.7.1\n",
      "conda-build                       24.5.1\n",
      "conda-content-trust               0.2.0\n",
      "conda_index                       0.5.0\n",
      "conda-libmamba-solver             24.1.0\n",
      "conda-pack                        0.7.1\n",
      "conda-package-handling            2.3.0\n",
      "conda_package_streaming           0.10.0\n",
      "conda-repo-cli                    1.0.88\n",
      "conda-token                       0.5.0+1.g2209e04\n",
      "constantly                        23.10.4\n",
      "contourpy                         1.2.0\n",
      "cookiecutter                      2.6.0\n",
      "cryptography                      42.0.5\n",
      "cssselect                         1.2.0\n",
      "cycler                            0.11.0\n",
      "cytoolz                           0.12.2\n",
      "dask                              2024.5.0\n",
      "dask-expr                         1.1.0\n",
      "datashader                        0.16.2\n",
      "debugpy                           1.6.7\n",
      "decorator                         5.1.1\n",
      "defusedxml                        0.7.1\n",
      "diff-match-patch                  20200713\n",
      "dill                              0.3.8\n",
      "distributed                       2024.5.0\n",
      "distro                            1.9.0\n",
      "dmglib                            0.9.5\n",
      "docstring-to-markdown             0.11\n",
      "docutils                          0.18.1\n",
      "entrypoints                       0.4\n",
      "et-xmlfile                        1.1.0\n",
      "executing                         0.8.3\n",
      "fastjsonschema                    2.16.2\n",
      "filelock                          3.13.1\n",
      "flake8                            7.0.0\n",
      "Flask                             3.0.3\n",
      "fonttools                         4.51.0\n",
      "frozendict                        2.4.2\n",
      "frozenlist                        1.4.0\n",
      "fsspec                            2024.3.1\n",
      "gensim                            4.3.2\n",
      "gitdb                             4.0.7\n",
      "GitPython                         3.1.37\n",
      "greenlet                          3.0.1\n",
      "h11                               0.14.0\n",
      "h5py                              3.11.0\n",
      "HeapDict                          1.0.1\n",
      "holoviews                         1.19.0\n",
      "httpcore                          1.0.2\n",
      "httpx                             0.27.0\n",
      "hvplot                            0.10.0\n",
      "hyperlink                         21.0.0\n",
      "idna                              3.7\n",
      "imagecodecs                       2023.1.23\n",
      "imageio                           2.33.1\n",
      "imagesize                         1.4.1\n",
      "imbalanced-learn                  0.12.3\n",
      "importlib-metadata                7.0.1\n",
      "incremental                       22.10.0\n",
      "inflection                        0.5.1\n",
      "iniconfig                         1.1.1\n",
      "intake                            0.7.0\n",
      "intervaltree                      3.1.0\n",
      "ipykernel                         6.28.0\n",
      "ipython                           8.25.0\n",
      "ipython-genutils                  0.2.0\n",
      "ipywidgets                        7.8.1\n",
      "isort                             5.13.2\n",
      "itemadapter                       0.3.0\n",
      "itemloaders                       1.1.0\n",
      "itsdangerous                      2.2.0\n",
      "jaraco.classes                    3.2.1\n",
      "jedi                              0.18.1\n",
      "jellyfish                         1.0.1\n",
      "Jinja2                            3.1.4\n",
      "jmespath                          1.0.1\n",
      "joblib                            1.4.2\n",
      "json5                             0.9.6\n",
      "jsonpatch                         1.33\n",
      "jsonpointer                       2.1\n",
      "jsonschema                        4.19.2\n",
      "jsonschema-specifications         2023.7.1\n",
      "jupyter                           1.0.0\n",
      "jupyter_client                    8.6.0\n",
      "jupyter-console                   6.6.3\n",
      "jupyter_core                      5.7.2\n",
      "jupyter-events                    0.10.0\n",
      "jupyter-lsp                       2.2.0\n",
      "jupyter_server                    2.14.1\n",
      "jupyter_server_terminals          0.4.4\n",
      "jupyterlab                        4.0.11\n",
      "jupyterlab-pygments               0.1.2\n",
      "jupyterlab_server                 2.25.1\n",
      "jupyterlab-widgets                1.0.0\n",
      "keyring                           24.3.1\n",
      "kiwisolver                        1.4.4\n",
      "lazy_loader                       0.4\n",
      "lazy-object-proxy                 1.10.0\n",
      "lckr_jupyterlab_variableinspector 3.1.0\n",
      "libarchive-c                      2.9\n",
      "libmambapy                        1.5.8\n",
      "linkify-it-py                     2.0.0\n",
      "llvmlite                          0.42.0\n",
      "lmdb                              1.4.1\n",
      "locket                            1.0.0\n",
      "lxml                              5.2.1\n",
      "lz4                               4.3.2\n",
      "Markdown                          3.4.1\n",
      "markdown-it-py                    2.2.0\n",
      "MarkupSafe                        2.1.3\n",
      "matplotlib                        3.8.4\n",
      "matplotlib-inline                 0.1.6\n",
      "mccabe                            0.7.0\n",
      "mdit-py-plugins                   0.3.0\n",
      "mdurl                             0.1.0\n",
      "menuinst                          2.1.1\n",
      "mistune                           2.0.4\n",
      "more-itertools                    10.1.0\n",
      "mpmath                            1.3.0\n",
      "msgpack                           1.0.3\n",
      "multidict                         6.0.4\n",
      "multipledispatch                  0.6.0\n",
      "mypy                              1.10.0\n",
      "mypy-extensions                   1.0.0\n",
      "navigator-updater                 0.5.1\n",
      "nbclient                          0.8.0\n",
      "nbconvert                         7.10.0\n",
      "nbformat                          5.9.2\n",
      "nest-asyncio                      1.6.0\n",
      "networkx                          3.2.1\n",
      "nltk                              3.8.1\n",
      "notebook                          7.0.8\n",
      "notebook_shim                     0.2.3\n",
      "numba                             0.59.1\n",
      "numexpr                           2.8.7\n",
      "numpy                             1.26.4\n",
      "numpydoc                          1.7.0\n",
      "openpyxl                          3.1.2\n",
      "overrides                         7.4.0\n",
      "packaging                         23.2\n",
      "pandas                            2.2.2\n",
      "pandocfilters                     1.5.0\n",
      "panel                             1.4.4\n",
      "param                             2.1.0\n",
      "parsel                            1.8.1\n",
      "parso                             0.8.3\n",
      "partd                             1.4.1\n",
      "pathspec                          0.10.3\n",
      "patsy                             0.5.6\n",
      "pexpect                           4.8.0\n",
      "pickleshare                       0.7.5\n",
      "pillow                            10.3.0\n",
      "pip                               24.0\n",
      "pkce                              1.0.3\n",
      "pkginfo                           1.10.0\n",
      "platformdirs                      3.10.0\n",
      "plotly                            5.22.0\n",
      "pluggy                            1.0.0\n",
      "ply                               3.11\n",
      "prometheus-client                 0.14.1\n",
      "prompt-toolkit                    3.0.43\n",
      "Protego                           0.1.16\n",
      "protobuf                          3.20.3\n",
      "psutil                            5.9.0\n",
      "ptyprocess                        0.7.0\n",
      "pure-eval                         0.2.2\n",
      "py-cpuinfo                        9.0.0\n",
      "pyarrow                           14.0.2\n",
      "pyasn1                            0.4.8\n",
      "pyasn1-modules                    0.2.8\n",
      "pycodestyle                       2.11.1\n",
      "pycosat                           0.6.6\n",
      "pycparser                         2.21\n",
      "pyct                              0.5.0\n",
      "pycurl                            7.45.2\n",
      "pydantic                          2.5.3\n",
      "pydantic_core                     2.14.6\n",
      "pydeck                            0.8.0\n",
      "PyDispatcher                      2.0.5\n",
      "pydocstyle                        6.3.0\n",
      "pyerfa                            2.0.1.4\n",
      "pyflakes                          3.2.0\n",
      "Pygments                          2.15.1\n",
      "PyJWT                             2.8.0\n",
      "pylint                            2.16.2\n",
      "pylint-venv                       3.0.3\n",
      "pyls-spyder                       0.4.0\n",
      "pyobjc-core                       10.1\n",
      "pyobjc-framework-Cocoa            10.1\n",
      "pyobjc-framework-CoreServices     10.1\n",
      "pyobjc-framework-FSEvents         10.1\n",
      "pyodbc                            5.0.1\n",
      "pyOpenSSL                         24.0.0\n",
      "pyparsing                         3.0.9\n",
      "PyQt5                             5.15.10\n",
      "PyQt5-sip                         12.13.0\n",
      "PyQtWebEngine                     5.15.6\n",
      "PySocks                           1.7.1\n",
      "pytest                            7.4.4\n",
      "python-dateutil                   2.9.0.post0\n",
      "python-dotenv                     0.21.0\n",
      "python-json-logger                2.0.7\n",
      "python-lsp-black                  2.0.0\n",
      "python-lsp-jsonrpc                1.1.2\n",
      "python-lsp-server                 1.10.0\n",
      "python-slugify                    5.0.2\n",
      "python-snappy                     0.6.1\n",
      "pytoolconfig                      1.2.6\n",
      "pytz                              2024.1\n",
      "pyviz_comms                       3.0.2\n",
      "pywavelets                        1.5.0\n",
      "PyYAML                            6.0.1\n",
      "pyzmq                             25.1.2\n",
      "QDarkStyle                        3.2.3\n",
      "qstylizer                         0.2.2\n",
      "QtAwesome                         1.2.2\n",
      "qtconsole                         5.5.1\n",
      "QtPy                              2.4.1\n",
      "queuelib                          1.6.2\n",
      "referencing                       0.30.2\n",
      "regex                             2023.10.3\n",
      "requests                          2.32.2\n",
      "requests-file                     1.5.1\n",
      "requests-toolbelt                 1.0.0\n",
      "rfc3339-validator                 0.1.4\n",
      "rfc3986-validator                 0.1.1\n",
      "rich                              13.3.5\n",
      "rope                              1.12.0\n",
      "rpds-py                           0.10.6\n",
      "Rtree                             1.0.1\n",
      "ruamel.yaml                       0.17.21\n",
      "ruamel-yaml-conda                 0.17.21\n",
      "s3fs                              2024.3.1\n",
      "scikit-image                      0.23.2\n",
      "scikit-learn                      1.4.2\n",
      "scipy                             1.13.1\n",
      "Scrapy                            2.11.1\n",
      "seaborn                           0.13.2\n",
      "semver                            3.0.2\n",
      "Send2Trash                        1.8.2\n",
      "service-identity                  18.1.0\n",
      "setuptools                        69.5.1\n",
      "sip                               6.7.12\n",
      "six                               1.16.0\n",
      "smart-open                        5.2.1\n",
      "smmap                             4.0.0\n",
      "sniffio                           1.3.0\n",
      "snowballstemmer                   2.2.0\n",
      "sortedcontainers                  2.4.0\n",
      "soupsieve                         2.5\n",
      "Sphinx                            7.3.7\n",
      "sphinxcontrib-applehelp           1.0.2\n",
      "sphinxcontrib-devhelp             1.0.2\n",
      "sphinxcontrib-htmlhelp            2.0.0\n",
      "sphinxcontrib-jsmath              1.0.1\n",
      "sphinxcontrib-qthelp              1.0.3\n",
      "sphinxcontrib-serializinghtml     1.1.10\n",
      "spyder                            5.5.1\n",
      "spyder-kernels                    2.5.0\n",
      "SQLAlchemy                        2.0.30\n",
      "stack-data                        0.2.0\n",
      "statsmodels                       0.14.2\n",
      "streamlit                         1.32.0\n",
      "sympy                             1.12\n",
      "tables                            3.9.2\n",
      "tabulate                          0.9.0\n",
      "tblib                             1.7.0\n",
      "tenacity                          8.2.2\n",
      "terminado                         0.17.1\n",
      "text-unidecode                    1.3\n",
      "textdistance                      4.2.1\n",
      "threadpoolctl                     2.2.0\n",
      "three-merge                       0.1.1\n",
      "tifffile                          2023.4.12\n",
      "tinycss2                          1.2.1\n",
      "tldextract                        3.2.0\n",
      "toml                              0.10.2\n",
      "tomli                             2.0.1\n",
      "tomlkit                           0.11.1\n",
      "toolz                             0.12.0\n",
      "tornado                           6.4.1\n",
      "tqdm                              4.66.4\n",
      "traitlets                         5.14.3\n",
      "truststore                        0.8.0\n",
      "Twisted                           23.10.0\n",
      "typing_extensions                 4.11.0\n",
      "tzdata                            2023.3\n",
      "uc-micro-py                       1.0.1\n",
      "ujson                             5.10.0\n",
      "unicodedata2                      15.1.0\n",
      "Unidecode                         1.2.0\n",
      "urllib3                           2.2.2\n",
      "w3lib                             2.1.2\n",
      "watchdog                          4.0.1\n",
      "wcwidth                           0.2.5\n",
      "webencodings                      0.5.1\n",
      "websocket-client                  1.8.0\n",
      "Werkzeug                          3.0.3\n",
      "whatthepatch                      1.0.2\n",
      "wheel                             0.43.0\n",
      "widgetsnbextension                3.6.6\n",
      "wrapt                             1.14.1\n",
      "wurlitzer                         3.0.2\n",
      "xarray                            2023.6.0\n",
      "xlwings                           0.31.4\n",
      "xyzservices                       2022.9.0\n",
      "yapf                              0.40.2\n",
      "yarl                              1.9.3\n",
      "zict                              3.0.0\n",
      "zipp                              3.17.0\n",
      "zope.interface                    5.4.0\n",
      "zstandard                         0.22.0\n",
      "Note: you may need to restart the kernel to use updated packages.\n"
     ]
    }
   ],
   "source": [
    "pip list"
   ]
  },
  {
   "cell_type": "code",
   "execution_count": 3,
   "metadata": {},
   "outputs": [],
   "source": [
    "import numpy as np"
   ]
  },
  {
   "cell_type": "code",
   "execution_count": 5,
   "metadata": {},
   "outputs": [],
   "source": [
    "import pandas as pd"
   ]
  },
  {
   "cell_type": "code",
   "execution_count": 7,
   "metadata": {},
   "outputs": [],
   "source": [
    "from matplotlib import pyplot as plt"
   ]
  },
  {
   "cell_type": "code",
   "execution_count": 9,
   "metadata": {},
   "outputs": [],
   "source": [
    "%matplotlib inline"
   ]
  },
  {
   "cell_type": "markdown",
   "metadata": {
    "id": "OcxGlyqLzGhO"
   },
   "source": [
    "### Завдання 1: Візуалізація лінійної та квадратичної функцій\n",
    "\n",
    "**Мета:** Побудувати графіки лінійної та квадратичної функцій на одному графіку для порівняння їх поведінки.\n",
    "\n",
    "1. Створіть масив значень `x` від -10 до 10 (включно) так, аби масив налічував 200 точок (інакше кажучи, мав крок 0.1 від точки до точки) використовуючи спеціальну функцію `numpy`.\n"
   ]
  },
  {
   "cell_type": "code",
   "execution_count": 13,
   "metadata": {
    "id": "PleWP4aqzJ5I"
   },
   "outputs": [
    {
     "data": {
      "text/plain": [
       "array([-10.        ,  -9.89949749,  -9.79899497,  -9.69849246,\n",
       "        -9.59798995,  -9.49748744,  -9.39698492,  -9.29648241,\n",
       "        -9.1959799 ,  -9.09547739,  -8.99497487,  -8.89447236,\n",
       "        -8.79396985,  -8.69346734,  -8.59296482,  -8.49246231,\n",
       "        -8.3919598 ,  -8.29145729,  -8.19095477,  -8.09045226,\n",
       "        -7.98994975,  -7.88944724,  -7.78894472,  -7.68844221,\n",
       "        -7.5879397 ,  -7.48743719,  -7.38693467,  -7.28643216,\n",
       "        -7.18592965,  -7.08542714,  -6.98492462,  -6.88442211,\n",
       "        -6.7839196 ,  -6.68341709,  -6.58291457,  -6.48241206,\n",
       "        -6.38190955,  -6.28140704,  -6.18090452,  -6.08040201,\n",
       "        -5.9798995 ,  -5.87939698,  -5.77889447,  -5.67839196,\n",
       "        -5.57788945,  -5.47738693,  -5.37688442,  -5.27638191,\n",
       "        -5.1758794 ,  -5.07537688,  -4.97487437,  -4.87437186,\n",
       "        -4.77386935,  -4.67336683,  -4.57286432,  -4.47236181,\n",
       "        -4.3718593 ,  -4.27135678,  -4.17085427,  -4.07035176,\n",
       "        -3.96984925,  -3.86934673,  -3.76884422,  -3.66834171,\n",
       "        -3.5678392 ,  -3.46733668,  -3.36683417,  -3.26633166,\n",
       "        -3.16582915,  -3.06532663,  -2.96482412,  -2.86432161,\n",
       "        -2.7638191 ,  -2.66331658,  -2.56281407,  -2.46231156,\n",
       "        -2.36180905,  -2.26130653,  -2.16080402,  -2.06030151,\n",
       "        -1.95979899,  -1.85929648,  -1.75879397,  -1.65829146,\n",
       "        -1.55778894,  -1.45728643,  -1.35678392,  -1.25628141,\n",
       "        -1.15577889,  -1.05527638,  -0.95477387,  -0.85427136,\n",
       "        -0.75376884,  -0.65326633,  -0.55276382,  -0.45226131,\n",
       "        -0.35175879,  -0.25125628,  -0.15075377,  -0.05025126,\n",
       "         0.05025126,   0.15075377,   0.25125628,   0.35175879,\n",
       "         0.45226131,   0.55276382,   0.65326633,   0.75376884,\n",
       "         0.85427136,   0.95477387,   1.05527638,   1.15577889,\n",
       "         1.25628141,   1.35678392,   1.45728643,   1.55778894,\n",
       "         1.65829146,   1.75879397,   1.85929648,   1.95979899,\n",
       "         2.06030151,   2.16080402,   2.26130653,   2.36180905,\n",
       "         2.46231156,   2.56281407,   2.66331658,   2.7638191 ,\n",
       "         2.86432161,   2.96482412,   3.06532663,   3.16582915,\n",
       "         3.26633166,   3.36683417,   3.46733668,   3.5678392 ,\n",
       "         3.66834171,   3.76884422,   3.86934673,   3.96984925,\n",
       "         4.07035176,   4.17085427,   4.27135678,   4.3718593 ,\n",
       "         4.47236181,   4.57286432,   4.67336683,   4.77386935,\n",
       "         4.87437186,   4.97487437,   5.07537688,   5.1758794 ,\n",
       "         5.27638191,   5.37688442,   5.47738693,   5.57788945,\n",
       "         5.67839196,   5.77889447,   5.87939698,   5.9798995 ,\n",
       "         6.08040201,   6.18090452,   6.28140704,   6.38190955,\n",
       "         6.48241206,   6.58291457,   6.68341709,   6.7839196 ,\n",
       "         6.88442211,   6.98492462,   7.08542714,   7.18592965,\n",
       "         7.28643216,   7.38693467,   7.48743719,   7.5879397 ,\n",
       "         7.68844221,   7.78894472,   7.88944724,   7.98994975,\n",
       "         8.09045226,   8.19095477,   8.29145729,   8.3919598 ,\n",
       "         8.49246231,   8.59296482,   8.69346734,   8.79396985,\n",
       "         8.89447236,   8.99497487,   9.09547739,   9.1959799 ,\n",
       "         9.29648241,   9.39698492,   9.49748744,   9.59798995,\n",
       "         9.69849246,   9.79899497,   9.89949749,  10.        ])"
      ]
     },
     "execution_count": 13,
     "metadata": {},
     "output_type": "execute_result"
    }
   ],
   "source": [
    "x = np.linspace (-10, 10, 200)\n",
    "x"
   ]
  },
  {
   "cell_type": "markdown",
   "metadata": {
    "id": "5VXHCB1Jz-5B"
   },
   "source": [
    "\n",
    "2. Створіть змінну `y_linear`, яка буде містити результат обчислення лінійної функції `y = 2x + 1`. Враховуйте, що змінну `x` ми створили з `numpy`, а значить для арифметичних обчислень з нею нам не треба цикл, бо можемо працювати з цыэю змінною, як з вектором (так само, як працюємо з колонками в `pandas`)\n"
   ]
  },
  {
   "cell_type": "code",
   "execution_count": 15,
   "metadata": {
    "id": "XsTsK35B0e0t"
   },
   "outputs": [
    {
     "name": "stdout",
     "output_type": "stream",
     "text": [
      "[-19.         -18.79899497 -18.59798995 -18.39698492 -18.1959799\n",
      " -17.99497487 -17.79396985 -17.59296482 -17.3919598  -17.19095477\n",
      " -16.98994975 -16.78894472 -16.5879397  -16.38693467 -16.18592965\n",
      " -15.98492462 -15.7839196  -15.58291457 -15.38190955 -15.18090452\n",
      " -14.9798995  -14.77889447 -14.57788945 -14.37688442 -14.1758794\n",
      " -13.97487437 -13.77386935 -13.57286432 -13.3718593  -13.17085427\n",
      " -12.96984925 -12.76884422 -12.5678392  -12.36683417 -12.16582915\n",
      " -11.96482412 -11.7638191  -11.56281407 -11.36180905 -11.16080402\n",
      " -10.95979899 -10.75879397 -10.55778894 -10.35678392 -10.15577889\n",
      "  -9.95477387  -9.75376884  -9.55276382  -9.35175879  -9.15075377\n",
      "  -8.94974874  -8.74874372  -8.54773869  -8.34673367  -8.14572864\n",
      "  -7.94472362  -7.74371859  -7.54271357  -7.34170854  -7.14070352\n",
      "  -6.93969849  -6.73869347  -6.53768844  -6.33668342  -6.13567839\n",
      "  -5.93467337  -5.73366834  -5.53266332  -5.33165829  -5.13065327\n",
      "  -4.92964824  -4.72864322  -4.52763819  -4.32663317  -4.12562814\n",
      "  -3.92462312  -3.72361809  -3.52261307  -3.32160804  -3.12060302\n",
      "  -2.91959799  -2.71859296  -2.51758794  -2.31658291  -2.11557789\n",
      "  -1.91457286  -1.71356784  -1.51256281  -1.31155779  -1.11055276\n",
      "  -0.90954774  -0.70854271  -0.50753769  -0.30653266  -0.10552764\n",
      "   0.09547739   0.29648241   0.49748744   0.69849246   0.89949749\n",
      "   1.10050251   1.30150754   1.50251256   1.70351759   1.90452261\n",
      "   2.10552764   2.30653266   2.50753769   2.70854271   2.90954774\n",
      "   3.11055276   3.31155779   3.51256281   3.71356784   3.91457286\n",
      "   4.11557789   4.31658291   4.51758794   4.71859296   4.91959799\n",
      "   5.12060302   5.32160804   5.52261307   5.72361809   5.92462312\n",
      "   6.12562814   6.32663317   6.52763819   6.72864322   6.92964824\n",
      "   7.13065327   7.33165829   7.53266332   7.73366834   7.93467337\n",
      "   8.13567839   8.33668342   8.53768844   8.73869347   8.93969849\n",
      "   9.14070352   9.34170854   9.54271357   9.74371859   9.94472362\n",
      "  10.14572864  10.34673367  10.54773869  10.74874372  10.94974874\n",
      "  11.15075377  11.35175879  11.55276382  11.75376884  11.95477387\n",
      "  12.15577889  12.35678392  12.55778894  12.75879397  12.95979899\n",
      "  13.16080402  13.36180905  13.56281407  13.7638191   13.96482412\n",
      "  14.16582915  14.36683417  14.5678392   14.76884422  14.96984925\n",
      "  15.17085427  15.3718593   15.57286432  15.77386935  15.97487437\n",
      "  16.1758794   16.37688442  16.57788945  16.77889447  16.9798995\n",
      "  17.18090452  17.38190955  17.58291457  17.7839196   17.98492462\n",
      "  18.18592965  18.38693467  18.5879397   18.78894472  18.98994975\n",
      "  19.19095477  19.3919598   19.59296482  19.79396985  19.99497487\n",
      "  20.1959799   20.39698492  20.59798995  20.79899497  21.        ]\n"
     ]
    }
   ],
   "source": [
    "y_linear = 2 * x + 1\n",
    "print(y_linear)"
   ]
  },
  {
   "cell_type": "markdown",
   "metadata": {
    "id": "v9P8aAIy0bII"
   },
   "source": [
    "\n",
    "3. Створіть змінну, яка буде містити результат обчислення квадратичної функції `y = x^2 - x - 2`.\n"
   ]
  },
  {
   "cell_type": "code",
   "execution_count": 19,
   "metadata": {
    "id": "t5AxZULi1I8F"
   },
   "outputs": [
    {
     "data": {
      "text/plain": [
       "array([108.        , 105.89954799, 103.81929749, 101.7592485 ,\n",
       "        99.71940103,  97.69975506,  95.7003106 ,  93.72106765,\n",
       "        91.76202621,  89.82318628,  87.90454786,  86.00611096,\n",
       "        84.12787556,  82.26984167,  80.43200929,  78.61437842,\n",
       "        76.81694907,  75.03972122,  73.28269488,  71.54587005,\n",
       "        69.82924674,  68.13282493,  66.45660463,  64.80058584,\n",
       "        63.16476857,  61.5491528 ,  59.95373854,  58.37852579,\n",
       "        56.82351456,  55.28870483,  53.77409661,  52.27968991,\n",
       "        50.80548471,  49.35148102,  47.91767885,  46.50407818,\n",
       "        45.11067902,  43.73748138,  42.38448524,  41.05169061,\n",
       "        39.7390975 ,  38.44670589,  37.1745158 ,  35.92252721,\n",
       "        34.69074013,  33.47915457,  32.28777051,  31.11658796,\n",
       "        29.96560693,  28.8348274 ,  27.72424939,  26.63387288,\n",
       "        25.56369789,  24.5137244 ,  23.48395243,  22.47438196,\n",
       "        21.485013  ,  20.51584556,  19.56687962,  18.6381152 ,\n",
       "        17.72955228,  16.84119088,  15.97303098,  15.1250726 ,\n",
       "        14.29731572,  13.48976036,  12.7024065 ,  11.93525416,\n",
       "        11.18830333,  10.461554  ,   9.75500619,   9.06865988,\n",
       "         8.40251509,   7.7565718 ,   7.13083003,   6.52528977,\n",
       "         5.93995101,   5.37481377,   4.82987803,   4.30514381,\n",
       "         3.8006111 ,   3.31627989,   2.8521502 ,   2.40822201,\n",
       "         1.98449534,   1.58097018,   1.19764652,   0.83452438,\n",
       "         0.49160375,   0.16888462,  -0.13363299,  -0.41594909,\n",
       "        -0.67806369,  -0.91997677,  -1.14168834,  -1.3431984 ,\n",
       "        -1.52450696,  -1.685614  ,  -1.82651953,  -1.94722355,\n",
       "        -2.04772607,  -2.12802707,  -2.18812656,  -2.22802454,\n",
       "        -2.24772102,  -2.24721598,  -2.22650943,  -2.18560137,\n",
       "        -2.12449181,  -2.04318073,  -1.94166814,  -1.81995404,\n",
       "        -1.67803843,  -1.51592132,  -1.33360269,  -1.13108255,\n",
       "        -0.9083609 ,  -0.66543774,  -0.40231307,  -0.11898689,\n",
       "         0.18454079,   0.50826999,   0.8522007 ,   1.21633292,\n",
       "         1.60066665,   2.00520189,   2.42993864,   2.8748769 ,\n",
       "         3.34001667,   3.82535795,   4.33090073,   4.85664503,\n",
       "         5.40259084,   5.96873816,   6.55508699,   7.16163733,\n",
       "         7.78838918,   8.43534254,   9.10249741,   9.78985379,\n",
       "        10.49741168,  11.22517108,  11.97313199,  12.74129441,\n",
       "        13.52965834,  14.33822378,  15.16699073,  16.01595919,\n",
       "        16.88512916,  17.77450064,  18.68407363,  19.61384814,\n",
       "        20.56382415,  21.53400167,  22.5243807 ,  23.53496124,\n",
       "        24.56574329,  25.61672685,  26.68791192,  27.7792985 ,\n",
       "        28.89088659,  30.0226762 ,  31.17466731,  32.34685993,\n",
       "        33.53925406,  34.7518497 ,  35.98464685,  37.23764551,\n",
       "        38.51084569,  39.80424737,  41.11785056,  42.45165526,\n",
       "        43.80566147,  45.1798692 ,  46.57427843,  47.98888917,\n",
       "        49.42370142,  50.87871518,  52.35393046,  53.84934724,\n",
       "        55.36496553,  56.90078533,  58.45680665,  60.03302947,\n",
       "        61.6294538 ,  63.24607964,  64.882907  ,  66.53993586,\n",
       "        68.21716623,  69.91459812,  71.63223151,  73.37006641,\n",
       "        75.12810283,  76.90634075,  78.70478018,  80.52342113,\n",
       "        82.36226358,  84.22130754,  86.10055302,  88.        ])"
      ]
     },
     "execution_count": 19,
     "metadata": {},
     "output_type": "execute_result"
    }
   ],
   "source": [
    "y_quadratic = x ** 2 - x-2\n",
    "y_quadratic"
   ]
  },
  {
   "cell_type": "markdown",
   "metadata": {
    "id": "3z7Z4zpt07uZ"
   },
   "source": [
    "4. Побудуйте лінійну візуалізацію значень змінної `y_linear` за відповідних значень `x`."
   ]
  },
  {
   "cell_type": "code",
   "execution_count": 21,
   "metadata": {
    "id": "ldR31dhV1WDZ"
   },
   "outputs": [
    {
     "data": {
      "image/png": "[encoded data removed]",
      "text/plain": [
       "<Figure size 640x480 with 1 Axes>"
      ]
     },
     "metadata": {},
     "output_type": "display_data"
    }
   ],
   "source": [
    "plt.plot(x, y_linear,  color ='blue')\n",
    "plt.show()"
   ]
  },
  {
   "cell_type": "markdown",
   "metadata": {
    "id": "xaO9nWhR1WTE"
   },
   "source": [
    "5. Побудуйте лінійну візуалізацію значень змінної `y_quadratic` за відповідних значень x."
   ]
  },
  {
   "cell_type": "code",
   "execution_count": 23,
   "metadata": {
    "id": "0e02usxM2HPG"
   },
   "outputs": [
    {
     "data": {
      "image/png": "[encoded data removed]",
      "text/plain": [
       "<Figure size 640x480 with 1 Axes>"
      ]
     },
     "metadata": {},
     "output_type": "display_data"
    }
   ],
   "source": [
    "plt.plot(x, y_quadratic,  color ='red')\n",
    "plt.show()"
   ]
  },
  {
   "cell_type": "markdown",
   "metadata": {
    "id": "cts7Ydd_06EM"
   },
   "source": [
    "\n",
    "6. Побудуйте графіки обох функцій на одному графіку:\n",
    "   - Використайте червоний колір та суцільну лінію для лінійної функції.\n",
    "   - Використайте зелений колір та переривчасту лінію для квадратичної функції.\n",
    "\n",
    "   "
   ]
  },
  {
   "cell_type": "code",
   "execution_count": 29,
   "metadata": {
    "id": "UR70iioK2r1k"
   },
   "outputs": [
    {
     "data": {
      "image/png": "[encoded data removed]",
      "text/plain": [
       "<Figure size 640x480 with 1 Axes>"
      ]
     },
     "metadata": {},
     "output_type": "display_data"
    }
   ],
   "source": [
    "plt.plot(x, y_linear,linestyle ='solid',  color ='red')\n",
    "plt.plot(x, y_quadratic,linestyle ='dashed', color ='green');"
   ]
  },
  {
   "cell_type": "markdown",
   "metadata": {
    "id": "COVMbbNd3P7e"
   },
   "source": [
    "Виглядає непогано! Але давайте для солідності додамо підписи графіку і на осях, а також сітку і легенду. Про це буде в наступному уроці, а поки просто вставте замість трьох крапок спочатку наповнення (те, що на попередньому кроці було всередині p для побудови графіку лінійної фукнції, потім - квадратичної і запустіть код."
   ]
  },
  {
   "cell_type": "code",
   "execution_count": 39,
   "metadata": {
    "id": "Z96LQ35i3JkF"
   },
   "outputs": [
    {
     "data": {
      "image/png": "[encoded data removed]",
      "text/plain": [
       "<Figure size 640x480 with 1 Axes>"
      ]
     },
     "metadata": {},
     "output_type": "display_data"
    }
   ],
   "source": [
    "plt.plot(x, y_linear,linestyle ='solid',  color ='red', label='Лінійна функція')\n",
    "plt.plot(x, y_quadratic,linestyle ='dashed', color ='green', label='Квадратична функція');\n",
    "plt.title('Порівняння лінійної та квадратичної функцій')\n",
    "plt.xlabel('x')\n",
    "plt.ylabel('y')\n",
    "plt.legend()\n",
    "plt.grid(True)\n"
   ]
  },
  {
   "cell_type": "code",
   "execution_count": null,
   "metadata": {},
   "outputs": [],
   "source": []
  }
 ],
 "metadata": {
  "colab": {
   "provenance": []
  },
  "kernelspec": {
   "display_name": "Python 3 (ipykernel)",
   "language": "python",
   "name": "python3"
  },
  "language_info": {
   "codemirror_mode": {
    "name": "ipython",
    "version": 3
   },
   "file_extension": ".py",
   "mimetype": "text/x-python",
   "name": "python",
   "nbconvert_exporter": "python",
   "pygments_lexer": "ipython3",
   "version": "3.12.4"
  }
 },
 "nbformat": 4,
 "nbformat_minor": 4
}

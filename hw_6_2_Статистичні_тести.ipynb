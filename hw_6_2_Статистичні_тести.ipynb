{
 "cells": [
  {
   "cell_type": "markdown",
   "id": "e152f6d6",
   "metadata": {
    "ExecuteTime": {
     "end_time": "2022-12-10T14:29:24.703416Z",
     "start_time": "2022-12-10T14:29:24.688485Z"
    },
    "id": "e152f6d6"
   },
   "source": [
    "## Домашнє завдання 6: Статистичні тести"
   ]
  },
  {
   "cell_type": "markdown",
   "id": "cd404683",
   "metadata": {
    "id": "cd404683"
   },
   "source": [
    "0. Зчитайте дані з `data.csv` та запишіть значення колонки data у форматі np.ndarray в змінну data. Ми будемо далі працювати з цією змінною."
   ]
  },
  {
   "cell_type": "code",
   "execution_count": 2,
   "id": "b01e04bc-3b2f-4a5b-b274-5d0aa2813bf3",
   "metadata": {},
   "outputs": [],
   "source": [
    "#імпорт необхідних бібліотек\n",
    "\n",
    "import numpy as np\n",
    "import pandas as pd\n",
    "\n"
   ]
  },
  {
   "cell_type": "code",
   "execution_count": 6,
   "id": "ed9453e6-c750-4599-8a4b-7e5bd0424054",
   "metadata": {},
   "outputs": [],
   "source": [
    "import os"
   ]
  },
  {
   "cell_type": "code",
   "execution_count": 8,
   "id": "0a029309-bcd4-4b24-8653-940b8a9c74d4",
   "metadata": {},
   "outputs": [
    {
     "data": {
      "text/plain": [
       "'/Users/mariaslovinska/Desktop/data lovers/Домашка статистики'"
      ]
     },
     "execution_count": 8,
     "metadata": {},
     "output_type": "execute_result"
    }
   ],
   "source": [
    "os.getcwd()"
   ]
  },
  {
   "cell_type": "code",
   "execution_count": 14,
   "id": "a8M1Xqa3hInl",
   "metadata": {
    "id": "a8M1Xqa3hInl"
   },
   "outputs": [],
   "source": [
    "file_path = \"data_statistics/data.csv\"\n"
   ]
  },
  {
   "cell_type": "code",
   "execution_count": 16,
   "id": "8da41a99-f493-4382-9ea8-b626c3cea667",
   "metadata": {},
   "outputs": [],
   "source": [
    "df = pd.read_csv(file_path)\n",
    "\n",
    "# Збереження значень колонки 'data' у форматі np.ndarray\n",
    "data = df['data'].to_numpy()"
   ]
  },
  {
   "cell_type": "code",
   "execution_count": 18,
   "id": "1a872dce-42bf-4f5c-8548-2b8e3d1e61b1",
   "metadata": {},
   "outputs": [
    {
     "data": {
      "text/plain": [
       "array([17.49945292, 19.66239904,  7.18282343, 29.84162485,  9.23938649])"
      ]
     },
     "execution_count": 18,
     "metadata": {},
     "output_type": "execute_result"
    }
   ],
   "source": [
    "data[:5]  # Вивести перші 5 елементів для перевірки"
   ]
  },
  {
   "cell_type": "markdown",
   "id": "3d06cbbf",
   "metadata": {
    "id": "3d06cbbf"
   },
   "source": [
    "Запустіть код нижче. Для коректної робити всіх подальших методів дані мають бути у вигляді одновимірного вектора, тобто мати розмір (100,)."
   ]
  },
  {
   "cell_type": "code",
   "execution_count": 20,
   "id": "Rc_cM9TfhJYI",
   "metadata": {
    "id": "Rc_cM9TfhJYI"
   },
   "outputs": [
    {
     "data": {
      "text/plain": [
       "(100,)"
      ]
     },
     "execution_count": 20,
     "metadata": {},
     "output_type": "execute_result"
    }
   ],
   "source": [
    "data.shape"
   ]
  },
  {
   "cell_type": "markdown",
   "id": "abdcef5d",
   "metadata": {
    "id": "abdcef5d"
   },
   "source": [
    "1. Зчитані дані - це сума покупок в доларах наших покупців на сайті протягом липня 2022 року.\n",
    "\n",
    "До цього місяця, ми мали продажі в середньому на чек $20. Чи вийшло у нас статистично значущо **підвищити** середній чек за останній місяць?\n",
    "\n",
    "Оберіть статистичний тест (z-test чи t-test). Виведіть p-значення статистичного тесту та зробіть висновок, чи ми маємо зараз статистично значущу різницю у розмірі середнього чеку.\n",
    "\n",
    "**Підказка**: тут тест буде одновибірковий."
   ]
  },
  {
   "cell_type": "markdown",
   "id": "a6faca39-f76d-4076-b0d5-e6fea36842ca",
   "metadata": {
    "id": "XhxcSbYqhLz9"
   },
   "source": [
    "розмір вибірки 100, тому спробуємо z-test n=100"
   ]
  },
  {
   "cell_type": "markdown",
   "id": "d8af3e90-b0e8-407b-9a51-4fcb7d859a85",
   "metadata": {},
   "source": [
    "H0 що середній чек 20$, альтернативна гіпотеза що він змінився."
   ]
  },
  {
   "cell_type": "code",
   "execution_count": 26,
   "id": "62ee9329-1c0d-475c-a506-1929c030d138",
   "metadata": {},
   "outputs": [],
   "source": [
    "# Дисперсію генеральної сукупності треба знайти. Перше: Шукаємо середнє генеральної сукупності (μ)\n",
    "mu = np.mean(data)\n"
   ]
  },
  {
   "cell_type": "code",
   "execution_count": 28,
   "id": "655cc092-7a99-4490-9370-49dbff5b8bc8",
   "metadata": {},
   "outputs": [],
   "source": [
    "squared_deviations = [(x - mu)**2 for x in data] #обчислюємо відхилення кожного елемента від середнього та підносить до квадрату."
   ]
  },
  {
   "cell_type": "code",
   "execution_count": 32,
   "id": "ead5c0ef-7230-4a30-812f-29c0aaf91747",
   "metadata": {},
   "outputs": [
    {
     "data": {
      "text/plain": [
       "3871.5957806556175"
      ]
     },
     "execution_count": 32,
     "metadata": {},
     "output_type": "execute_result"
    }
   ],
   "source": [
    "sum_squared_deviations = sum(squared_deviations) #знаходимо суму квадратів відхилень\n",
    "sum_squared_deviations"
   ]
  },
  {
   "cell_type": "code",
   "execution_count": 36,
   "id": "e6b06f51-30ce-4cb3-90a1-3dd31c643d4b",
   "metadata": {},
   "outputs": [],
   "source": [
    "n=100"
   ]
  },
  {
   "cell_type": "code",
   "execution_count": 38,
   "id": "3b0e4e06-3d55-4637-b3a0-56d57e19f77f",
   "metadata": {},
   "outputs": [
    {
     "data": {
      "text/plain": [
       "6.2222148634193095"
      ]
     },
     "execution_count": 38,
     "metadata": {},
     "output_type": "execute_result"
    }
   ],
   "source": [
    "#Обчислення стандартного відхилення\n",
    "sigma = np.sqrt(sum_squared_deviations / n)\n",
    "sigma\n"
   ]
  },
  {
   "cell_type": "code",
   "execution_count": 40,
   "id": "b51d4b1f-eee2-4917-b8d3-c0033421914a",
   "metadata": {},
   "outputs": [
    {
     "name": "stdout",
     "output_type": "stream",
     "text": [
      "Стандартне відхилення генеральної сукупності (σ): 6.2222148634193095\n"
     ]
    }
   ],
   "source": [
    "print(f\"Стандартне відхилення генеральної сукупності (σ): {sigma}\")"
   ]
  },
  {
   "cell_type": "code",
   "execution_count": 42,
   "id": "d2cd432c-5ea4-40e9-a8cd-15acba4d7ab8",
   "metadata": {},
   "outputs": [],
   "source": [
    "from statsmodels.stats.weightstats import ztest"
   ]
  },
  {
   "cell_type": "code",
   "execution_count": 44,
   "id": "0e295214-e25c-4786-adb1-56e85dbae0bd",
   "metadata": {},
   "outputs": [],
   "source": [
    "import math"
   ]
  },
  {
   "cell_type": "code",
   "execution_count": 46,
   "id": "ce785c5b-bd55-4fc6-a44a-8fecf92b0b0f",
   "metadata": {},
   "outputs": [
    {
     "name": "stdout",
     "output_type": "stream",
     "text": [
      "Середнє вибірки: 19.38\n",
      "z-статистика: -1.00\n",
      "p-значення: 0.8414\n",
      "Немає статистично значущої різниці у середньому чеку (ми не можемо відхилити H0).\n"
     ]
    }
   ],
   "source": [
    "\n",
    "from scipy.stats import norm\n",
    "# Дані\n",
    "null_mean = 20  # Нульова гіпотеза\n",
    "\n",
    "# Розрахунок\n",
    "sample_mean = np.mean(data)\n",
    "z_stat = (mu - null_mean) / (sigma / np.sqrt(n))\n",
    "\n",
    "# P-значення (односторонній тест)\n",
    "p_value = 1 - norm.cdf(z_stat)\n",
    "\n",
    "# Виведення результатів\n",
    "print(f\"Середнє вибірки: {mu:.2f}\")\n",
    "print(f\"z-статистика: {z_stat:.2f}\")\n",
    "print(f\"p-значення: {p_value:.4f}\")\n",
    "\n",
    "# Висновок\n",
    "if p_value < 0.05:\n",
    "    print(\"Є статистично значуща різниця у середньому чеку (ми відхиляємо H0).\")\n",
    "else:\n",
    "    print(\"Немає статистично значущої різниці у середньому чеку (ми не можемо відхилити H0).\")\n"
   ]
  },
  {
   "cell_type": "markdown",
   "id": "9fb61ad8-760f-4b19-8e97-e2acd5f12160",
   "metadata": {},
   "source": [
    "Також спробуємо як у лекції використовувати функцію ztest з бібліотеки scipy.stats для проведення Z-тесту."
   ]
  },
  {
   "cell_type": "code",
   "execution_count": 61,
   "id": "6aebf1a9-8bde-49b9-b9cb-ea6b22993ec9",
   "metadata": {},
   "outputs": [
    {
     "name": "stdout",
     "output_type": "stream",
     "text": [
      "Z-тест: -0.9953477389335053\n",
      "P-значення: 0.8402164165464012\n"
     ]
    }
   ],
   "source": [
    "ztest_Score, p_value = ztest(data, value=null_mean, alternative='larger') # односторонній тест для перевірки гіпотези, що значення більше гіпотетичного (порівнюється з більшим значенням).\n",
    "\n",
    "# Виведення результатів\n",
    "print(f\"Z-тест: {ztest_Score}\")\n",
    "print(f\"P-значення: {p_value}\")"
   ]
  },
  {
   "cell_type": "markdown",
   "id": "8e4dd986-88f8-4483-add9-cd290824c40f",
   "metadata": {},
   "source": [
    "Висновок: Оскільки ми не можемо відхилити нульову гіпотезу. Тобто, не можна стверджувати, що середній чек значно змінився порівняно з попереднім"
   ]
  },
  {
   "cell_type": "markdown",
   "id": "05219e41",
   "metadata": {
    "ExecuteTime": {
     "end_time": "2022-12-10T14:52:46.140204Z",
     "start_time": "2022-12-10T14:52:46.112068Z"
    },
    "id": "05219e41"
   },
   "source": [
    "2. Пройшов час, і ми зібрали дані про продажі за серпень 2022 року, які зберігли у файл `data_2.csv`. Продажів було дещо більше, але чи змінився стат. значущо середній чек порівняно з липнем 2022? Перевірте це використовуючи ztest.\n",
    "\n",
    "  Виведіть p-значення статистичного тесту та зробіть висновок, чи ми маємо зараз статистично значущу різницю у розмірі середнього чека між двома місяцями.\n",
    "\n",
    "  **Підказка**: треба провести двовибірковий ztest з Н0 - що середні значення в липні та серпні 2022 року - однакові. Для кращого розуміння ситуації, можливо вам буде цікаво переглянути, які середні показники чеку були в кожен з місяців. Порівняйте свій висновок з простого спостереження середніх значень і висновок статистичного тесту. Чи вони збігаються?"
   ]
  },
  {
   "cell_type": "code",
   "execution_count": 63,
   "id": "hbs7LPI4hP-6",
   "metadata": {
    "id": "hbs7LPI4hP-6"
   },
   "outputs": [],
   "source": [
    "file_path = \"data_statistics/data_2.csv\""
   ]
  },
  {
   "cell_type": "code",
   "execution_count": 65,
   "id": "fd78e9ab-0e9e-4027-b8ca-f9967a6a55b1",
   "metadata": {},
   "outputs": [],
   "source": [
    "df2 = pd.read_csv(file_path)\n",
    "\n",
    "# Збереження значень колонки 'data' у форматі np.ndarray\n",
    "data_2 = df2['data'].to_numpy()"
   ]
  },
  {
   "cell_type": "code",
   "execution_count": 67,
   "id": "2deb9d9c-1462-4bfb-b966-2ecd500415a3",
   "metadata": {},
   "outputs": [
    {
     "data": {
      "text/plain": [
       "array([ 5.94015879, 29.18934391, 11.38350244, 15.43409823, 19.89675209])"
      ]
     },
     "execution_count": 67,
     "metadata": {},
     "output_type": "execute_result"
    }
   ],
   "source": [
    "data_2[:5]"
   ]
  },
  {
   "cell_type": "code",
   "execution_count": 69,
   "id": "c326dc08-5d3f-4884-9243-23f1be1993a7",
   "metadata": {},
   "outputs": [
    {
     "data": {
      "text/plain": [
       "(120,)"
      ]
     },
     "execution_count": 69,
     "metadata": {},
     "output_type": "execute_result"
    }
   ],
   "source": [
    "data_2.shape"
   ]
  },
  {
   "cell_type": "markdown",
   "id": "5dfedee3-44c9-4ecd-b9c0-ea900ca6de1c",
   "metadata": {},
   "source": [
    " Значить n2=120"
   ]
  },
  {
   "cell_type": "code",
   "execution_count": 71,
   "id": "bfe0ca75-c401-4b1b-8bc8-82a892781eff",
   "metadata": {},
   "outputs": [
    {
     "data": {
      "text/plain": [
       "(19.37755319670441, 19.37322276512519)"
      ]
     },
     "execution_count": 71,
     "metadata": {},
     "output_type": "execute_result"
    }
   ],
   "source": [
    "#нагадаємо собі середнє значення у липні і виведемо середні продажі за серпень теж поряд\n",
    "np.mean(data), np.mean(data_2)"
   ]
  },
  {
   "cell_type": "markdown",
   "id": "08392f32-1c02-4497-8f59-d903fe86a17c",
   "metadata": {},
   "source": [
    "Попередньо ми бачимо що середні значення схожі."
   ]
  },
  {
   "cell_type": "code",
   "execution_count": 81,
   "id": "c95dde23-2a68-40e7-828b-9f9638804b2f",
   "metadata": {},
   "outputs": [
    {
     "name": "stdout",
     "output_type": "stream",
     "text": [
      "Z-тест:  0.01\n",
      "P-значення:  0.9958\n",
      "Немає статистично значущої різниці між середніми чеками в липні та серпні.\n"
     ]
    }
   ],
   "source": [
    "# z-test для двох вибірок\n",
    "ztest_score, p_value = ztest(data, data_2, value=0)\n",
    "\n",
    "# Вивести результати\n",
    "print(f\"Z-тест: {ztest_score: .2f}\")\n",
    "print(f\"P-значення: {p_value: .4f}\")\n",
    "\n",
    "\n",
    "# Висновок\n",
    "if p_value < 0.05:  # якщо p-значення менше 0.05, то різниця значуща\n",
    "    print(\"Між середніми чеками в липні та серпні є статистично значуща різниця.\")\n",
    "else:\n",
    "    print(\"Немає статистично значущої різниці між середніми чеками в липні та серпні.\")"
   ]
  },
  {
   "cell_type": "markdown",
   "id": "9265776d-d1a7-4144-8134-d83e0b507f66",
   "metadata": {},
   "source": [
    "Після двовибіркового тесту значення p вказують на те, що середні чека не змінилися суттєво і ми не можемо зробити висновок про наявність статистично значущої різниці між ними"
   ]
  }
 ],
 "metadata": {
  "colab": {
   "provenance": []
  },
  "hide_input": false,
  "kernelspec": {
   "display_name": "Python 3 (ipykernel)",
   "language": "python",
   "name": "python3"
  },
  "language_info": {
   "codemirror_mode": {
    "name": "ipython",
    "version": 3
   },
   "file_extension": ".py",
   "mimetype": "text/x-python",
   "name": "python",
   "nbconvert_exporter": "python",
   "pygments_lexer": "ipython3",
   "version": "3.12.4"
  },
  "toc": {
   "base_numbering": 1,
   "nav_menu": {},
   "number_sections": true,
   "sideBar": true,
   "skip_h1_title": false,
   "title_cell": "Table of Contents",
   "title_sidebar": "Contents",
   "toc_cell": false,
   "toc_position": {},
   "toc_section_display": true,
   "toc_window_display": false
  },
  "varInspector": {
   "cols": {
    "lenName": 16,
    "lenType": 16,
    "lenVar": 40
   },
   "kernels_config": {
    "python": {
     "delete_cmd_postfix": "",
     "delete_cmd_prefix": "del ",
     "library": "var_list.py",
     "varRefreshCmd": "print(var_dic_list())"
    },
    "r": {
     "delete_cmd_postfix": ") ",
     "delete_cmd_prefix": "rm(",
     "library": "var_list.r",
     "varRefreshCmd": "cat(var_dic_list()) "
    }
   },
   "types_to_exclude": [
    "module",
    "function",
    "builtin_function_or_method",
    "instance",
    "_Feature"
   ],
   "window_display": false
  }
 },
 "nbformat": 4,
 "nbformat_minor": 5
}

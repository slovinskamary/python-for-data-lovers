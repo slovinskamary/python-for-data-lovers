{
 "cells": [
  {
   "cell_type": "markdown",
   "id": "2153041f",
   "metadata": {
    "id": "2153041f"
   },
   "source": [
    "# Завдання на використання SQL в Python"
   ]
  },
  {
   "cell_type": "markdown",
   "id": "2c1af6e1",
   "metadata": {
    "ExecuteTime": {
     "end_time": "2022-11-27T18:04:46.316592Z",
     "start_time": "2022-11-27T18:04:46.302021Z"
    },
    "id": "2c1af6e1"
   },
   "source": [
    "1.Встановіть бібліотеку `mysql-connector-python` через pip aбо через conda."
   ]
  },
  {
   "cell_type": "code",
   "execution_count": 3,
   "id": "a8fcd64e",
   "metadata": {
    "id": "a8fcd64e"
   },
   "outputs": [
    {
     "name": "stdout",
     "output_type": "stream",
     "text": [
      "Requirement already satisfied: mysql-connector-python in /opt/anaconda3/lib/python3.12/site-packages (9.1.0)\n"
     ]
    }
   ],
   "source": [
    "!pip install mysql-connector-python"
   ]
  },
  {
   "cell_type": "markdown",
   "id": "eec5551e",
   "metadata": {
    "id": "eec5551e",
    "pycharm": {
     "name": "#%% md\n"
    }
   },
   "source": [
    "2.В змінній `con` створіть підключення до бази даних employees за аналогією того, як це робилось в лекції:"
   ]
  },
  {
   "cell_type": "code",
   "execution_count": 6,
   "id": "e3fff0d8",
   "metadata": {
    "id": "e3fff0d8"
   },
   "outputs": [
    {
     "name": "stdout",
     "output_type": "stream",
     "text": [
      "mysql-connector-python    9.1.0                    pypi_0    pypi\n"
     ]
    }
   ],
   "source": [
    "! conda list | grep mysql-connector-python"
   ]
  },
  {
   "cell_type": "code",
   "execution_count": 70,
   "id": "8176385d-b960-4c6b-9186-5b3f08a6b44f",
   "metadata": {},
   "outputs": [],
   "source": [
    "import mysql.connector\n",
    "from mysql.connector.connection import MySQLConnection\n",
    "import datetime"
   ]
  },
  {
   "cell_type": "code",
   "execution_count": 345,
   "id": "05f6b8a2-d668-42e1-bfc7-ca6489e535f8",
   "metadata": {},
   "outputs": [],
   "source": [
    "con = mysql.connector.connect(user='user1', password='7oygWy6P',\n",
    "                              host='3.68.62.36',\n",
    "                              database='employees')"
   ]
  },
  {
   "cell_type": "markdown",
   "id": "8b17a588",
   "metadata": {
    "ExecuteTime": {
     "end_time": "2022-01-26T22:23:01.406330Z",
     "start_time": "2022-01-26T22:23:01.403942Z"
    },
    "id": "8b17a588",
    "pycharm": {
     "name": "#%% md\n"
    }
   },
   "source": [
    "3.Виберіть максимальну і мінімальну дати найму співробітників використовуючи `con.cursor()`. Аби отримати результати в кінці, виконайте `cursor.fetchall()`."
   ]
  },
  {
   "cell_type": "code",
   "execution_count": 72,
   "id": "2d9785de",
   "metadata": {
    "id": "2d9785de"
   },
   "outputs": [],
   "source": [
    "cursor = con.cursor()"
   ]
  },
  {
   "cell_type": "code",
   "execution_count": 74,
   "id": "ee6b5c56-faa5-4b8b-8e8b-8e787692d71a",
   "metadata": {},
   "outputs": [],
   "source": [
    "sql = \"\"\"\n",
    "    SELECT MIN(hire_date) AS min_hire_date, MAX(hire_date) AS max_hire_date\n",
    "    FROM employees;\n",
    "\"\"\"\n"
   ]
  },
  {
   "cell_type": "code",
   "execution_count": 76,
   "id": "327ce54d-1bfc-4846-9e51-92700e207525",
   "metadata": {},
   "outputs": [
    {
     "data": {
      "text/plain": [
       "[(datetime.date(1985, 1, 1), datetime.date(2000, 1, 28))]"
      ]
     },
     "execution_count": 76,
     "metadata": {},
     "output_type": "execute_result"
    }
   ],
   "source": [
    "\n",
    "cursor.execute(sql)\n",
    "cursor.fetchall()"
   ]
  },
  {
   "cell_type": "markdown",
   "id": "955dd2fa",
   "metadata": {
    "ExecuteTime": {
     "end_time": "2022-11-27T18:11:33.491134Z",
     "start_time": "2022-11-27T18:11:33.486973Z"
    },
    "id": "955dd2fa"
   },
   "source": [
    "Очікуваний результат:  \n",
    "    `[(datetime.date(2000, 1, 28), datetime.date(1985, 1, 1))]`"
   ]
  },
  {
   "cell_type": "markdown",
   "id": "1d9c214d",
   "metadata": {
    "ExecuteTime": {
     "end_time": "2023-07-14T15:52:49.876166Z",
     "start_time": "2023-07-14T15:52:49.855548Z"
    },
    "id": "1d9c214d"
   },
   "source": [
    "4.Давайте зберемо інформацію про останню ЗП кожного співробіткника в базі. З використанням `con.cursor()` виберіть з таблиці `salaries` для кожного співробітника його номер, останню в базі даних (тобто ту, що відповідає найновішій `to_date`) ЗП, та значення `from_date`, `to_date` для цієї ЗП.\n",
    "\n",
    "Результати запишіть у pandas DataFrame, який збережіть у змінну `res`. Як взяти з курсора назви колонок - вже наведено. На екран виведіть назви колонок в змінній `res`, розмір цього датафрейму та перші 3 записи в ньому.\n",
    "\n",
    "УВАГА! Зверніть увагу, що ЗП може оновлюватись протягом одного дня, тобто є випадки, коли апдейт ЗП був в певний день, скажімо 2001-01-01 і потім стався ще один апдейт ЗП цьому співробітнику цього самого дня. Запит має це враховувати.\n",
    "Також, теоретично ЗП може бути зменшена. Тож, брати дату з максимальною ЗП буде неправильно з точки зору бізнес логіки. Треба саме останнє історичне значення ЗП кожного співробітника."
   ]
  },
  {
   "cell_type": "code",
   "execution_count": 78,
   "id": "a6f27343-d06a-4437-b04e-48ce327558aa",
   "metadata": {},
   "outputs": [],
   "source": [
    "import pandas as pd"
   ]
  },
  {
   "cell_type": "code",
   "execution_count": 327,
   "id": "f326ba43",
   "metadata": {
    "id": "f326ba43"
   },
   "outputs": [],
   "source": [
    "cursor = con.cursor()\n",
    "\n",
    "# SQL-запит для отримання останньої ЗП кожного співробітника\n",
    "sql2 = \"\"\"\n",
    "    SELECT \n",
    "        emp_no,\n",
    "        salary,\n",
    "        from_date,\n",
    "        to_date\n",
    "    FROM \n",
    "        salaries \n",
    "    WHERE \n",
    "        (emp_no, to_date) IN (\n",
    "            SELECT emp_no, MAX(to_date)\n",
    "            FROM salaries\n",
    "            GROUP BY emp_no\n",
    "        );\n",
    "\"\"\"\n",
    "\n"
   ]
  },
  {
   "cell_type": "code",
   "execution_count": 329,
   "id": "3d8a1348-3874-4af5-bd00-bbbd2ef4a999",
   "metadata": {},
   "outputs": [],
   "source": [
    "# Виконання запиту\n",
    "cursor.execute(sql2)\n",
    "\n",
    "columns = [desc[0] for desc in cursor.description]\n",
    "results = cursor.fetchall()  # Зберігаємо результати в змінну, бо якщо зараз викликати fetchall - то дани очистяться і виведе пустий результат.\n",
    "\n",
    "# Формування DataFrame\n",
    "res = pd.DataFrame(results, columns=columns)\n",
    "\n",
    "# Виведення результатів\n",
    "#res\n"
   ]
  },
  {
   "cell_type": "code",
   "execution_count": 143,
   "id": "bf5eb14d",
   "metadata": {
    "ExecuteTime": {
     "end_time": "2023-07-14T16:14:15.617144Z",
     "start_time": "2023-07-14T16:14:15.611369Z"
    },
    "id": "bf5eb14d"
   },
   "outputs": [],
   "source": [
    "field_names = [i[0] for i in cursor.description]"
   ]
  },
  {
   "cell_type": "markdown",
   "id": "fb5676cb",
   "metadata": {
    "id": "fb5676cb"
   },
   "source": [
    "Очікуваний результат:\n",
    "\n",
    "![](https://drive.google.com/uc?export=view&id=1lNvzbAebtkj3C2v-I5AE6HkMH8MTI1kA)"
   ]
  },
  {
   "cell_type": "markdown",
   "id": "e5770b56",
   "metadata": {
    "ExecuteTime": {
     "end_time": "2023-07-14T16:17:31.638485Z",
     "start_time": "2023-07-14T16:17:31.632827Z"
    },
    "id": "e5770b56"
   },
   "source": [
    "5.В утвореній вибірці в змінній `res` скільки значень `to_date` рівні `9999-01-01`, а скільки - ні? Увага! Для виконання цього завдання важливо розуміти, який тип даних у значень колонки `to_date`. Зʼясуйте це, і потім напишіть фільтр для виводу потрібного результату."
   ]
  },
  {
   "cell_type": "code",
   "execution_count": 312,
   "id": "8a9dc7e5",
   "metadata": {
    "id": "8a9dc7e5"
   },
   "outputs": [
    {
     "data": {
      "text/plain": [
       "dtype('O')"
      ]
     },
     "execution_count": 312,
     "metadata": {},
     "output_type": "execute_result"
    }
   ],
   "source": [
    "res['to_date'].dtype\n"
   ]
  },
  {
   "cell_type": "markdown",
   "id": "4035b3eb-249b-496d-bdf6-cc13ad208c9b",
   "metadata": {},
   "source": [
    "Якщо dtype колонки to_date — dtype('O'), це означає, що колонка має тип object. У більшості випадків це текстовий формат. Для коректної роботи з датами в цій колонці потрібно конвертувати її до формату datetime."
   ]
  },
  {
   "cell_type": "code",
   "execution_count": 330,
   "id": "940daa45-bd44-4fe1-b1dd-963816a08d7a",
   "metadata": {},
   "outputs": [],
   "source": [
    "res['to_date'] = pd.to_datetime(res['to_date'], errors='coerce') #Без errors='coerce' виконання кодуможе зупинитися, якщо є некоректні значення.\n"
   ]
  },
  {
   "cell_type": "code",
   "execution_count": 333,
   "id": "33ca79e3-f635-472c-bb5d-802408f782b4",
   "metadata": {},
   "outputs": [
    {
     "data": {
      "text/plain": [
       "dtype('<M8[ns]')"
      ]
     },
     "execution_count": 333,
     "metadata": {},
     "output_type": "execute_result"
    }
   ],
   "source": [
    "res['to_date'].dtype #dtype('<M8[ns]') означає, що дані в колонці мають тип datetime64[ns] у Pandas."
   ]
  },
  {
   "cell_type": "code",
   "execution_count": 335,
   "id": "08e5140e-54b8-4605-b6de-d0206ebb7d0f",
   "metadata": {},
   "outputs": [],
   "source": [
    "сount_9999 = (res['to_date'] == pd.Timestamp('9999-01-01')).sum()\n",
    "count_other = (res['to_date'] != pd.Timestamp('9999-01-01')).sum()\n"
   ]
  },
  {
   "cell_type": "code",
   "execution_count": 297,
   "id": "be575d75-258c-4449-bdb6-eb91cd5b65f8",
   "metadata": {},
   "outputs": [
    {
     "name": "stdout",
     "output_type": "stream",
     "text": [
      "Кількість значень to_date ≠ 9999-01-01: 300180\n"
     ]
    }
   ],
   "source": [
    "\n",
    "print(f\"Кількість значень to_date ≠ 9999-01-01: {count_other}\")"
   ]
  },
  {
   "cell_type": "code",
   "execution_count": 251,
   "id": "815f601b-f727-47b5-b616-28733f8d0bd7",
   "metadata": {},
   "outputs": [
    {
     "ename": "NameError",
     "evalue": "name 'count_9999' is not defined",
     "output_type": "error",
     "traceback": [
      "\u001b[0;31m---------------------------------------------------------------------------\u001b[0m",
      "\u001b[0;31mNameError\u001b[0m                                 Traceback (most recent call last)",
      "Cell \u001b[0;32mIn[251], line 1\u001b[0m\n\u001b[0;32m----> 1\u001b[0m \u001b[38;5;28mprint\u001b[39m(\u001b[38;5;124mf\u001b[39m\u001b[38;5;124m\"\u001b[39m\u001b[38;5;124mКількість значень to_date = 9999-01-01: \u001b[39m\u001b[38;5;132;01m{\u001b[39;00mcount_9999\u001b[38;5;132;01m}\u001b[39;00m\u001b[38;5;124m\"\u001b[39m)\n",
      "\u001b[0;31mNameError\u001b[0m: name 'count_9999' is not defined"
     ]
    }
   ],
   "source": [
    "print(f\"Кількість значень to_date = 9999-01-01: {count_9999}\")"
   ]
  },
  {
   "cell_type": "markdown",
   "id": "ae22c37a",
   "metadata": {
    "id": "ae22c37a"
   },
   "source": [
    "6.Виведіть візуально розподіл (гістограму) зарплат співробітників, які досі працюють в компанії, використовуючи результат попереднього завдання. Співробітниками, які досі працюють в компанії вважаємо тих, в кого to_date має значення 9999-01-01. Обовʼязково підпишіть графік і вісі.\n",
    "\n",
    "Ці три завдання - приклад, як нам може бути зручно витягнути дані з бази певним запитом, а потім використати витягнуту вибірку у Python для подальшого аналізу."
   ]
  },
  {
   "cell_type": "code",
   "execution_count": 359,
   "id": "165fbccc-06a2-4f47-8d33-1ef67c1c5d54",
   "metadata": {},
   "outputs": [],
   "source": [
    "current_employees = res[res['to_date'] != pd.Timestamp('9999-01-01')]\n"
   ]
  },
  {
   "cell_type": "markdown",
   "id": "1db705ff-dc98-470c-90f5-060dfd1d7084",
   "metadata": {},
   "source": [
    "current_employees = res[res['to_date'] == pd.Timestamp('9999-01-01')]\n",
    "Такий рядок дає пусту гістограму, а якщо я обираю не дорівнює, тобто != - то все працює, можете підказати де тут у мене помилка?"
   ]
  },
  {
   "cell_type": "code",
   "execution_count": 363,
   "id": "1f3b12a5-9598-4f1e-8396-ab34562f032e",
   "metadata": {},
   "outputs": [
    {
     "data": {
      "text/plain": [
       "pandas.core.frame.DataFrame"
      ]
     },
     "execution_count": 363,
     "metadata": {},
     "output_type": "execute_result"
    }
   ],
   "source": [
    "type(current_employees)"
   ]
  },
  {
   "cell_type": "code",
   "execution_count": 365,
   "id": "30a527b9-93b7-4ec2-b62f-202e413aa116",
   "metadata": {},
   "outputs": [
    {
     "name": "stdout",
     "output_type": "stream",
     "text": [
      "300180\n"
     ]
    }
   ],
   "source": [
    "print(current_employees.shape[0])"
   ]
  },
  {
   "cell_type": "code",
   "execution_count": 185,
   "id": "cc4d8ce6-9abb-4af9-992c-f0272845da0e",
   "metadata": {},
   "outputs": [],
   "source": [
    "import matplotlib.pyplot as plt"
   ]
  },
  {
   "cell_type": "code",
   "execution_count": 367,
   "id": "addd36e8-b437-46db-9ee0-9fbd4f475f9c",
   "metadata": {},
   "outputs": [
    {
     "data": {
      "image/png": "[encoded data removed]",
      "text/plain": [
       "<Figure size 1000x600 with 1 Axes>"
      ]
     },
     "metadata": {},
     "output_type": "display_data"
    }
   ],
   "source": [
    "plt.figure(figsize=(10, 6))\n",
    "plt.hist(current_employees['salary'], color='blue', edgecolor='black')\n",
    "plt.title('Розподіл зарплат співробітників, які досі працюють')\n",
    "plt.xlabel('ЗП')\n",
    "plt.ylabel('Кількість співробітників')\n",
    "plt.show();"
   ]
  },
  {
   "cell_type": "markdown",
   "id": "AL26SP3WMJiX",
   "metadata": {
    "id": "AL26SP3WMJiX"
   },
   "source": [
    "Очікуваний результат:\n",
    "\n",
    "![](https://drive.google.com/uc?export=view&id=1j8MHLC1E0revbQLM9B0UJs6tVEgoWhmK)"
   ]
  },
  {
   "cell_type": "markdown",
   "id": "Cp_JpGPpKmzp",
   "metadata": {
    "id": "Cp_JpGPpKmzp"
   },
   "source": [
    "НЕ ЗАБУВАЄМО ЗАКРИТИ ПІДКЛЮЧЕННЯ ДО БАЗИ :)"
   ]
  },
  {
   "cell_type": "code",
   "execution_count": 370,
   "id": "WEMo9bl6KnMh",
   "metadata": {
    "id": "WEMo9bl6KnMh"
   },
   "outputs": [],
   "source": [
    "con.close()"
   ]
  },
  {
   "cell_type": "code",
   "execution_count": null,
   "id": "f92d9b75-0c71-4375-b419-6ec06d7f2404",
   "metadata": {},
   "outputs": [],
   "source": []
  }
 ],
 "metadata": {
  "colab": {
   "provenance": []
  },
  "kernelspec": {
   "display_name": "Python 3 (ipykernel)",
   "language": "python",
   "name": "python3"
  },
  "language_info": {
   "codemirror_mode": {
    "name": "ipython",
    "version": 3
   },
   "file_extension": ".py",
   "mimetype": "text/x-python",
   "name": "python",
   "nbconvert_exporter": "python",
   "pygments_lexer": "ipython3",
   "version": "3.12.4"
  },
  "toc": {
   "base_numbering": 1,
   "nav_menu": {},
   "number_sections": true,
   "sideBar": true,
   "skip_h1_title": false,
   "title_cell": "Table of Contents",
   "title_sidebar": "Contents",
   "toc_cell": false,
   "toc_position": {},
   "toc_section_display": true,
   "toc_window_display": false
  },
  "vscode": {
   "interpreter": {
    "hash": "a6511e6b41b26ba86cca7483749cf4dd15bf137a2672e550741a656e19bba82e"
   }
  }
 },
 "nbformat": 4,
 "nbformat_minor": 5
}
